{
 "cells": [
  {
   "cell_type": "code",
   "execution_count": 18,
   "metadata": {},
   "outputs": [
    {
     "name": "stdout",
     "output_type": "stream",
     "text": [
      "connected\n"
     ]
    }
   ],
   "source": [
    "## 10-805 Machine Learning with Large Dataset  Final Project\n",
    "## Yelp Challenge\n",
    "## Code snippet :  Connecting to remote sql server using python\n",
    "## Date : Oct. 22nd 2017\n",
    "## Name : Jingyu Wang\n",
    "\n",
    "## Assumption : Please install mysql connector on your macs\n",
    "\n",
    "import mysql.connector\n",
    "from mysql.connector import errorcode\n",
    "import datetime\n",
    "import matplotlib.pyplot as plt\n",
    "import numpy as np\n",
    "from nltk.tokenize import sent_tokenize, word_tokenize\n",
    "from nltk.stem.wordnet import WordNetLemmatizer \n",
    "from nltk.stem.porter import PorterStemmer \n",
    "from nltk.corpus import stopwords\n",
    "import string\n",
    "import csv\n",
    "\n",
    "# step 1 : connect to the remote MySQL server\n",
    "try:\n",
    "    cnx = mysql.connector.connect(user='Admin10805', password='10805fall2017',\n",
    "                          host='yelp2.csfuygoxtob2.us-east-2.rds.amazonaws.com',\n",
    "                          database='yelp_db')\n",
    "except mysql.connector.Error as err:\n",
    "    if err.errno == errorcode.ER_ACCESS_DENIED_ERROR:\n",
    "        print(\"Something is wrong with your user name or password\")\n",
    "    elif err.errno == errorcode.ER_BAD_DB_ERROR:\n",
    "        print(\"Database does not exist\")\n",
    "    else:\n",
    "        print(err)\n",
    "print(\"connected\")\n",
    "# else:\n",
    "#   cnx.close()\n"
   ]
  },
  {
   "cell_type": "code",
   "execution_count": 19,
   "metadata": {},
   "outputs": [
    {
     "name": "stdout",
     "output_type": "stream",
     "text": [
      "Query done\n"
     ]
    }
   ],
   "source": [
    "#Convert the 1-gram tokens into tf-idf feature represetation\n",
    "#Extract word combination from the review dataset\n",
    "#Up to distance D = 5. If two words in the review are not more than D apart, the combination will be considered\n",
    "#The output will be stored in a csv file where each line is all possible word combination for each review\n",
    "cursor = cnx.cursor()\n",
    "query = (\"SELECT id,text FROM review_token\")\n",
    "cursor.execute(query) \n",
    "results = cursor.fetchall()\n",
    "print(\"Query done\")"
   ]
  },
  {
   "cell_type": "code",
   "execution_count": 20,
   "metadata": {},
   "outputs": [],
   "source": [
    "from sklearn.feature_extraction.text import TfidfVectorizer\n",
    "vectorizer = TfidfVectorizer()\n",
    "\n",
    "corpus = [str(elem) for elem in results]\n",
    "\n",
    "tf_idf = vectorizer.fit_transform(corpus)"
   ]
  },
  {
   "cell_type": "code",
   "execution_count": 21,
   "metadata": {},
   "outputs": [],
   "source": [
    "np.save(\"1gram_tf_idf.npy\",tf_idf)"
   ]
  },
  {
   "cell_type": "code",
   "execution_count": 42,
   "metadata": {},
   "outputs": [
    {
     "name": "stdout",
     "output_type": "stream",
     "text": [
      "('mean', 1.9008692821482081)\n",
      "('median', 0.0)\n",
      "('std', 5.9158010852855316)\n"
     ]
    }
   ],
   "source": [
    "import sys\n",
    "import numpy as np\n",
    "from numpy import genfromtxt\n",
    "import string\n",
    "count = 0\n",
    "total = 0\n",
    "\n",
    "score = genfromtxt('metric_dist.csv')[1:]\n",
    "\n",
    "print('mean',np.mean(score))\n",
    "print('median',np.median(score))\n",
    "print(\"std\",np.std(score))"
   ]
  },
  {
   "cell_type": "code",
   "execution_count": 23,
   "metadata": {},
   "outputs": [
    {
     "data": {
      "image/png": "[encoded data removed]",
      "text/plain": [
       "<matplotlib.figure.Figure at 0x1af86cbb10>"
      ]
     },
     "metadata": {},
     "output_type": "display_data"
    }
   ],
   "source": [
    "import matplotlib.pyplot as plt\n",
    "plt.plot(score)\n",
    "plt.show()"
   ]
  },
  {
   "cell_type": "code",
   "execution_count": 45,
   "metadata": {},
   "outputs": [],
   "source": [
    "np.set_printoptions(threshold=np.inf)\n",
    "idx = (int)(len(score)*0.95)\n",
    "tmp = (score[idx:len(score)])"
   ]
  },
  {
   "cell_type": "code",
   "execution_count": 44,
   "metadata": {},
   "outputs": [
    {
     "data": {
      "image/png": "[encoded data removed]",
      "text/plain": [
       "<matplotlib.figure.Figure at 0x1af86cb6d0>"
      ]
     },
     "metadata": {},
     "output_type": "display_data"
    },
    {
     "name": "stdout",
     "output_type": "stream",
     "text": [
      "2269.0\n",
      "21.0\n"
     ]
    }
   ],
   "source": [
    "plt.plot(tmp)\n",
    "plt.show()\n",
    "print(max(tmp))\n",
    "print(min(tmp))"
   ]
  },
  {
   "cell_type": "code",
   "execution_count": 41,
   "metadata": {},
   "outputs": [
    {
     "name": "stdout",
     "output_type": "stream",
     "text": [
      "4593061\n"
     ]
    }
   ],
   "source": [
    "print(len([x for x in score if x<=10]))"
   ]
  },
  {
   "cell_type": "code",
   "execution_count": null,
   "metadata": {
    "collapsed": true
   },
   "outputs": [],
   "source": []
  }
 ],
 "metadata": {
  "kernelspec": {
   "display_name": "Python 2",
   "language": "python",
   "name": "python2"
  },
  "language_info": {
   "codemirror_mode": {
    "name": "ipython",
    "version": 2
   },
   "file_extension": ".py",
   "mimetype": "text/x-python",
   "name": "python",
   "nbconvert_exporter": "python",
   "pygments_lexer": "ipython2",
   "version": "2.7.13"
  }
 },
 "nbformat": 4,
 "nbformat_minor": 2
}
