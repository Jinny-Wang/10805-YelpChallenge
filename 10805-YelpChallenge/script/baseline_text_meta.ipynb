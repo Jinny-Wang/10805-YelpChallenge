{
 "cells": [
  {
   "cell_type": "code",
   "execution_count": 1,
   "metadata": {
    "collapsed": true
   },
   "outputs": [],
   "source": [
    "#Exploring different baseline models using word combination up to n distance\n",
    "#First randomly split data into training (70%) and testing set (30%)\n",
    "import sys\n",
    "from sklearn.feature_extraction.text import CountVectorizer\n",
    "import numpy as np\n",
    "import re\n",
    "import json\n",
    "import csv\n",
    "import random\n",
    "\n",
    "random.seed(0)\n",
    "\n",
    "\n",
    "#Load labels of the subset\n",
    "\n",
    "label = []\n",
    "idx = []\n",
    "count = 0\n",
    "header = True\n",
    "with open('label_50000.csv','r') as f:\n",
    "    reader = csv.reader(f,delimiter='\\t')\n",
    "    for line in reader:\n",
    "        if header == True:\n",
    "            header = False\n",
    "            continue\n",
    "        line = (int)(line[0])\n",
    "        if (count == 50000):\n",
    "            break\n",
    "        idx.append(count)\n",
    "        y = 0\n",
    "        if line >=8:\n",
    "            y = 1\n",
    "        elif line >=1 and line <=7:\n",
    "            y = 1\n",
    "        else:\n",
    "            y = 0\n",
    "        label.append(y)\n",
    "        count += 1\n",
    "\n",
    "split = (int)(len(idx)*0.7)\n",
    "rand_idx = random.shuffle(idx)\n",
    "train_idx = idx[0:split]\n",
    "test_idx = idx[split:len(idx)]\n",
    "train_y = [label[index] for index in train_idx]\n",
    "test_y = [label[index] for index in test_idx]"
   ]
  },
  {
   "cell_type": "code",
   "execution_count": 2,
   "metadata": {},
   "outputs": [
    {
     "name": "stdout",
     "output_type": "stream",
     "text": [
      "0\n",
      "10000\n",
      "20000\n",
      "30000\n",
      "40000\n",
      "50000\n",
      "done loading text metadata features\n",
      "50000\n"
     ]
    }
   ],
   "source": [
    "#Load training data\n",
    "data = []\n",
    "count = 0\n",
    "num_subset = 50000\n",
    "\n",
    "with open(\"review_text_meta.csv\") as f:\n",
    "    for line in f:\n",
    "        if count %10000 ==0:\n",
    "            print(count)\n",
    "        if count == num_subset:\n",
    "            break\n",
    "        data.append(line.split(\"\\t\"))\n",
    "        count += 1\n",
    "print(\"done loading text metadata features\")\n",
    "print(len(data))\n"
   ]
  },
  {
   "cell_type": "code",
   "execution_count": 3,
   "metadata": {
    "collapsed": true
   },
   "outputs": [],
   "source": [
    "#Split into train and test set\n",
    "train_data = [data[index] for index in train_idx]\n",
    "test_data = [data[index] for index in test_idx]"
   ]
  },
  {
   "cell_type": "code",
   "execution_count": 7,
   "metadata": {},
   "outputs": [
    {
     "data": {
      "text/plain": [
       "0.50891058422439173"
      ]
     },
     "execution_count": 7,
     "metadata": {},
     "output_type": "execute_result"
    }
   ],
   "source": [
    "#Fit random forest\n",
    "from sklearn.ensemble import RandomForestClassifier\n",
    "from sklearn.datasets import make_classification\n",
    "from sklearn.metrics import roc_curve\n",
    "from sklearn.metrics import f1_score\n",
    "from sklearn.metrics import accuracy_score\n",
    "clf = RandomForestClassifier(n_jobs=2, random_state=3000)\n",
    "clf.fit(train_data, train_y)\n",
    "pred = clf.predict(test_data)\n",
    "\n",
    "#Calculate accuracy\n",
    "accuracy_score(test_y, pred)\n",
    "f1_score(test_y,pred)"
   ]
  },
  {
   "cell_type": "code",
   "execution_count": null,
   "metadata": {
    "collapsed": true
   },
   "outputs": [],
   "source": [
    "from sklearn.model_selection import cross_val_score\n",
    "from sklearn import svm\n",
    "clf = svm.SVC(kernel='linear', C=1)\n",
    "scores = cross_val_score(clf, data, label, cv=5)\n",
    "scores                                              "
   ]
  },
  {
   "cell_type": "code",
   "execution_count": null,
   "metadata": {
    "collapsed": true
   },
   "outputs": [],
   "source": [
    "clf = RandomForestClassifier(n_jobs=2, random_state=30)\n",
    "scores = cross_val_score(clf, data, label, cv=5)\n",
    "scores  "
   ]
  },
  {
   "cell_type": "code",
   "execution_count": null,
   "metadata": {
    "collapsed": true
   },
   "outputs": [],
   "source": [
    "from sklearn.neural_network import MLPClassifier\n",
    "clf = MLPClassifier(solver='lbfgs', alpha=1e-5,hidden_layer_sizes=(5, 2), random_state=1)\n",
    "scores = cross_val_score(clf, data, label, cv=5)\n",
    "scores  "
   ]
  },
  {
   "cell_type": "code",
   "execution_count": null,
   "metadata": {
    "collapsed": true
   },
   "outputs": [],
   "source": []
  }
 ],
 "metadata": {
  "kernelspec": {
   "display_name": "Python 2",
   "language": "python",
   "name": "python2"
  },
  "language_info": {
   "codemirror_mode": {
    "name": "ipython",
    "version": 2
   },
   "file_extension": ".py",
   "mimetype": "text/x-python",
   "name": "python",
   "nbconvert_exporter": "python",
   "pygments_lexer": "ipython2",
   "version": "2.7.13"
  }
 },
 "nbformat": 4,
 "nbformat_minor": 2
}
