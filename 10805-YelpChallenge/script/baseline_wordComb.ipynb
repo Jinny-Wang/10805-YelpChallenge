{
 "cells": [
  {
   "cell_type": "code",
   "execution_count": 64,
   "metadata": {
    "scrolled": true
   },
   "outputs": [],
   "source": [
    "#Exploring different baseline models using word combination up to n distance\n",
    "#First randomly split data into training (70%) and testing set (30%)\n",
    "import sys\n",
    "from sklearn.feature_extraction.text import CountVectorizer\n",
    "import numpy as np\n",
    "import re\n",
    "import json\n",
    "import csv\n",
    "import random\n",
    "\n",
    "random.seed(0)\n",
    "\n",
    "\n",
    "#Load labels of the subset\n",
    "\n",
    "label\n",
    "idx = []\n",
    "count = 0\n",
    "with open('label_50000.csv','r') as f:\n",
    "    \n",
    "    reader = csv.reader(f,delimiter='\\t')\n",
    "    for line in reader:\n",
    "        count += 1\n",
    "        if (count == 50001):\n",
    "            break\n",
    "        idx.append(count)\n",
    "        y = 0\n",
    "        if line >=8:\n",
    "            y = 2\n",
    "        elif line >=1 and line <=7:\n",
    "            y = 1\n",
    "        else:\n",
    "            y = 0\n",
    "        label.append(y)\n",
    "\n",
    "split = (int)(len(idx)*0.7)\n",
    "rand_idx = random.shuffle(idx)\n",
    "train_idx = idx[0:split]\n",
    "test_idx = idx[split:len(idx)]\n",
    "train_y = [label[index] for index in train_idx]\n",
    "test_y = [label[index] for index in test_idx]\n",
    "\n"
   ]
  },
  {
   "cell_type": "code",
   "execution_count": 82,
   "metadata": {
    "scrolled": true
   },
   "outputs": [
    {
     "name": "stdout",
     "output_type": "stream",
     "text": [
      "10000\n",
      "20000\n",
      "30000\n",
      "40000\n",
      "50000\n",
      "done loading data up to dist 2\n",
      "50001\n",
      "10000\n",
      "20000\n",
      "30000\n",
      "40000\n",
      "50000\n",
      "done loading data up to dist 3\n"
     ]
    }
   ],
   "source": [
    "#Load training data\n",
    "data = []\n",
    "count = 0\n",
    "num_subset = 50002\n",
    "\n",
    "with open(\"2dist_bow.csv\") as f:\n",
    "    for line in f:\n",
    "        count += 1\n",
    "        if count %10000 ==0:\n",
    "            print(count)\n",
    "        if count == num_subset:\n",
    "            break\n",
    "        data.append(line.split(\"\\t\"))\n",
    "print(\"done loading data up to dist 2\")\n",
    "print(len(data))\n",
    "count = 0\n",
    "with open(\"3dist_bow.csv\") as f:\n",
    "    for line in f:\n",
    "        count += 1\n",
    "        if count %10000 ==0:\n",
    "            print(count)\n",
    "        if count == num_subset:\n",
    "            break\n",
    "        data[count-1].extend(line.split(\"\\t\"))\n",
    "print(\"done loading data up to dist 3\") \n"
   ]
  },
  {
   "cell_type": "code",
   "execution_count": 74,
   "metadata": {},
   "outputs": [],
   "source": []
  },
  {
   "cell_type": "code",
   "execution_count": 83,
   "metadata": {},
   "outputs": [],
   "source": [
    "#Split into train and test set\n",
    "train_data = [data[index] for index in train_idx]\n",
    "test_data = [data[index] for index in test_idx]"
   ]
  },
  {
   "cell_type": "code",
   "execution_count": 84,
   "metadata": {},
   "outputs": [
    {
     "data": {
      "text/plain": [
       "RandomForestClassifier(bootstrap=True, class_weight=None, criterion='gini',\n",
       "            max_depth=None, max_features='auto', max_leaf_nodes=None,\n",
       "            min_impurity_decrease=0.0, min_impurity_split=None,\n",
       "            min_samples_leaf=1, min_samples_split=2,\n",
       "            min_weight_fraction_leaf=0.0, n_estimators=10, n_jobs=2,\n",
       "            oob_score=False, random_state=0, verbose=0, warm_start=False)"
      ]
     },
     "execution_count": 84,
     "metadata": {},
     "output_type": "execute_result"
    }
   ],
   "source": [
    "#Fit random forest\n",
    "from sklearn.ensemble import RandomForestClassifier\n",
    "from sklearn.datasets import make_classification\n",
    "\n",
    "clf = RandomForestClassifier(n_jobs=2, random_state=0)\n",
    "clf.fit(train_data, train_y)\n",
    "#6:01"
   ]
  },
  {
   "cell_type": "code",
   "execution_count": 85,
   "metadata": {
    "collapsed": true
   },
   "outputs": [],
   "source": [
    "pred = clf.predict(test_data)"
   ]
  },
  {
   "cell_type": "code",
   "execution_count": 87,
   "metadata": {},
   "outputs": [
    {
     "data": {
      "text/plain": [
       "0.51726666666666665"
      ]
     },
     "execution_count": 87,
     "metadata": {},
     "output_type": "execute_result"
    }
   ],
   "source": [
    "from sklearn.metrics import roc_curve\n",
    "from sklearn.metrics import f1_score\n",
    "#Calculate accuracy\n",
    "accuracy_score(test_y, pred)\n",
    "\n",
    "#Calculate F1\n",
    "#f1_score(test_y, pred,average=None)"
   ]
  },
  {
   "cell_type": "code",
   "execution_count": 92,
   "metadata": {
    "collapsed": true
   },
   "outputs": [],
   "source": [
    "y = np.array(test_y)"
   ]
  },
  {
   "cell_type": "code",
   "execution_count": 93,
   "metadata": {},
   "outputs": [
    {
     "data": {
      "text/plain": [
       "2"
      ]
     },
     "execution_count": 93,
     "metadata": {},
     "output_type": "execute_result"
    }
   ],
   "source": [
    "np.max(y)"
   ]
  },
  {
   "cell_type": "code",
   "execution_count": null,
   "metadata": {
    "collapsed": true
   },
   "outputs": [],
   "source": []
  }
 ],
 "metadata": {
  "kernelspec": {
   "display_name": "Python 2",
   "language": "python",
   "name": "python2"
  },
  "language_info": {
   "codemirror_mode": {
    "name": "ipython",
    "version": 2
   },
   "file_extension": ".py",
   "mimetype": "text/x-python",
   "name": "python",
   "nbconvert_exporter": "python",
   "pygments_lexer": "ipython2",
   "version": "2.7.13"
  }
 },
 "nbformat": 4,
 "nbformat_minor": 2
}
