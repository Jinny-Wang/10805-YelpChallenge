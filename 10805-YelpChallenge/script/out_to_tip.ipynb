{
 "cells": [
  {
   "cell_type": "code",
   "execution_count": 16,
   "metadata": {
    "collapsed": true
   },
   "outputs": [],
   "source": [
    "from collections import Counter\n",
    "import json\n",
    "from numpy import genfromtxt\n",
    "import csv\n",
    "import numpy as np\n",
    "from nltk import word_tokenize\n"
   ]
  },
  {
   "cell_type": "code",
   "execution_count": 17,
   "metadata": {},
   "outputs": [],
   "source": [
    "pred = np.load(\"../log/pred_with_busmeta.npy\")"
   ]
  },
  {
   "cell_type": "code",
   "execution_count": 18,
   "metadata": {},
   "outputs": [
    {
     "name": "stdout",
     "output_type": "stream",
     "text": [
      "9366\n"
     ]
    }
   ],
   "source": [
    "valid = set()\n",
    "for row in pred:\n",
    "    if row[1] == '1':\n",
    "        valid.add(row[0])\n",
    "print(len(valid))"
   ]
  },
  {
   "cell_type": "code",
   "execution_count": 19,
   "metadata": {
    "collapsed": true
   },
   "outputs": [],
   "source": [
    "def add_dict(d, k, v):\n",
    "    if d.has_key(k):\n",
    "        d[k].append(v)\n",
    "    else:\n",
    "        d[k] = [v]"
   ]
  },
  {
   "cell_type": "code",
   "execution_count": 24,
   "metadata": {
    "scrolled": true
   },
   "outputs": [
    {
     "name": "stdout",
     "output_type": "stream",
     "text": [
      "0\n",
      "100000\n",
      "200000\n",
      "300000\n",
      "400000\n",
      "500000\n",
      "600000\n",
      "700000\n",
      "800000\n",
      "900000\n",
      "1000000\n",
      "1100000\n",
      "1200000\n",
      "1300000\n",
      "1400000\n",
      "1500000\n",
      "1600000\n",
      "1700000\n",
      "1800000\n",
      "1900000\n",
      "2000000\n",
      "2100000\n",
      "2200000\n",
      "2300000\n",
      "2400000\n",
      "2500000\n",
      "2600000\n",
      "2700000\n",
      "2800000\n",
      "2900000\n",
      "3000000\n",
      "3100000\n",
      "3200000\n",
      "3300000\n",
      "3400000\n",
      "3500000\n",
      "3600000\n",
      "3700000\n",
      "3800000\n",
      "3900000\n",
      "4000000\n",
      "4100000\n",
      "4200000\n",
      "4300000\n",
      "4400000\n",
      "4500000\n",
      "4600000\n",
      "4700000\n"
     ]
    }
   ],
   "source": [
    "output = {}\n",
    "with open(\"/Users/yuyanzhang/Desktop/CMU/10605/yelp/10805-YelpChallenge/dataset/review.json\") as f:\n",
    "    count = 0\n",
    "    for row in f: \n",
    "        if count % 100000 == 0:\n",
    "            print(count)\n",
    "        count += 1\n",
    "        \n",
    "        row = json.loads(row)\n",
    "        if row['review_id'] in valid:\n",
    "            add_dict(output,row['business_id'], row['text'].strip())\n"
   ]
  },
  {
   "cell_type": "code",
   "execution_count": 35,
   "metadata": {},
   "outputs": [],
   "source": [
    "with open(\"../output/useful_with_business.csv\",'w') as f1:\n",
    "    writer=csv.writer(f1, delimiter='\\t',lineterminator='\\n',)\n",
    "    count = 0\n",
    "    for k, v in output.iteritems():\n",
    "        count += 1\n",
    "        if count % 100000 == 0:\n",
    "            print(count)\n",
    "            \n",
    "        v = \"\".join(v).replace('\\r', '').replace('\\n', '').encode('utf-8').strip()\n",
    "        writer.writerow([k,v])\n"
   ]
  },
  {
   "cell_type": "code",
   "execution_count": 36,
   "metadata": {},
   "outputs": [
    {
     "name": "stdout",
     "output_type": "stream",
     "text": [
      "7552\n"
     ]
    }
   ],
   "source": [
    "print(len(output))"
   ]
  },
  {
   "cell_type": "code",
   "execution_count": null,
   "metadata": {
    "collapsed": true
   },
   "outputs": [],
   "source": [
    "\n",
    "\n",
    "# word-lists to compare\n",
    "a = [u'home (private)', u'bank', u'bank', u'building(condo/apartment)','factory']\n",
    "b = [u'home (private)', u'school', u'bank', u'shopping mall']\n",
    "\n",
    "# count word occurrences\n",
    "a_vals = Counter(a)\n",
    "b_vals = Counter(b)\n",
    "\n",
    "# convert to word-vectors\n",
    "words  = list(a_vals.keys() | b_vals.keys())\n",
    "a_vect = [a_vals.get(word, 0) for word in words]        # [0, 0, 1, 1, 2, 1]\n",
    "b_vect = [b_vals.get(word, 0) for word in words]        # [1, 1, 1, 0, 1, 0]\n",
    "\n",
    "# find cosine\n",
    "len_a  = sum(av*av for av in a_vect) ** 0.5             # sqrt(7)\n",
    "len_b  = sum(bv*bv for bv in b_vect) ** 0.5             # sqrt(4)\n",
    "dot    = sum(av*bv for av,bv in zip(a_vect, b_vect))    # 3\n",
    "cosine = dot / (len_a * len_b)                          # 0.5669467"
   ]
  }
 ],
 "metadata": {
  "kernelspec": {
   "display_name": "Python 2",
   "language": "python",
   "name": "python2"
  },
  "language_info": {
   "codemirror_mode": {
    "name": "ipython",
    "version": 2
   },
   "file_extension": ".py",
   "mimetype": "text/x-python",
   "name": "python",
   "nbconvert_exporter": "python",
   "pygments_lexer": "ipython2",
   "version": "2.7.13"
  }
 },
 "nbformat": 4,
 "nbformat_minor": 2
}
