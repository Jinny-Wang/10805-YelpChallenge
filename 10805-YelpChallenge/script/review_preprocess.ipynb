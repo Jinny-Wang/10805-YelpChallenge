{
 "cells": [
  {
   "cell_type": "code",
   "execution_count": 132,
   "metadata": {},
   "outputs": [
    {
     "name": "stdout",
     "output_type": "stream",
     "text": [
      "connected\n"
     ]
    }
   ],
   "source": [
    "## 10-805 Machine Learning with Large Dataset  Final Project\n",
    "## Yelp Challenge\n",
    "## Code snippet :  Connecting to remote sql server using python\n",
    "## Date : Oct. 22nd 2017\n",
    "## Name : Jingyu Wang\n",
    "\n",
    "## Assumption : Please install mysql connector on your macs\n",
    "\n",
    "import mysql.connector\n",
    "from mysql.connector import errorcode\n",
    "import datetime\n",
    "import matplotlib.pyplot as plt\n",
    "import numpy as np\n",
    "from nltk.tokenize import sent_tokenize, word_tokenize\n",
    "from nltk.stem.wordnet import WordNetLemmatizer \n",
    "from nltk.stem.porter import PorterStemmer \n",
    "from nltk.corpus import stopwords\n",
    "import string\n",
    "import csv\n",
    "\n",
    "# step 1 : connect to the remote MySQL server\n",
    "try:\n",
    "    cnx = mysql.connector.connect(user='Admin10805', password='10805fall2017',\n",
    "                          host='yelp2.csfuygoxtob2.us-east-2.rds.amazonaws.com',\n",
    "                          database='yelp_db')\n",
    "except mysql.connector.Error as err:\n",
    "    if err.errno == errorcode.ER_ACCESS_DENIED_ERROR:\n",
    "        print(\"Something is wrong with your user name or password\")\n",
    "    elif err.errno == errorcode.ER_BAD_DB_ERROR:\n",
    "        print(\"Database does not exist\")\n",
    "    else:\n",
    "        print(err)\n",
    "print(\"connected\")\n",
    "# else:\n",
    "#   cnx.close()\n"
   ]
  },
  {
   "cell_type": "code",
   "execution_count": null,
   "metadata": {
    "collapsed": true
   },
   "outputs": [],
   "source": [
    "#Preprocess the tip table\n",
    "#Tokenize the text, throw out stop words and puncutation\n",
    "#The tokenized text will be stored in table tip_token\n",
    "cursor = cnx.cursor()\n",
    "query = (\"SELECT * FROM tip\")\n",
    "cursor.execute(query) \n",
    "results = cursor.fetchall()"
   ]
  },
  {
   "cell_type": "code",
   "execution_count": null,
   "metadata": {},
   "outputs": [],
   "source": [
    "with open('tip_token.csv','w') as f1:\n",
    "    writer=csv.writer(f1, delimiter='\\t',lineterminator='\\n',)\n",
    "    for row in results:\n",
    "        row_text = row[2]\n",
    "        row_tokens = word_tokenize(row_text)\n",
    "        #Remove punctuation： ？ and ! will not be removed for now. \n",
    "        row_tokens = [l.lower() for l in row_tokens if l not in string.punctuation or l==\"?\" or l==\"!\"]\n",
    "        #Lemmatization\n",
    "        lmtzr = WordNetLemmatizer()\n",
    "        row_tokens = [lmtzr.lemmatize(c,\"v\") for c in row_tokens]\n",
    "        #Remove stopwords\n",
    "        stop = set(stopwords.words('english'))\n",
    "        row_tokens = [c.lower() for c in row_tokens if c not in stop]\n",
    "        #All tokens will be space-separated\n",
    "        text_store = \" \".join(row_tokens).encode('utf-8').strip()\n",
    "        #Write to csv\n",
    "        store = [row[0],row[1],text_store,row[3],row[4]]\n",
    "        writer.writerow(store)\n",
    "\n",
    "        #print text_store\n",
    "print(\"Done writing to csv file\")\n"
   ]
  },
  {
   "cell_type": "code",
   "execution_count": 129,
   "metadata": {
    "collapsed": true
   },
   "outputs": [],
   "source": [
    "#Preprocess the tip table\n",
    "#Tokenize the text, throw out stop words and puncutation\n",
    "#The tokenized text will be stored in table tip_token\n",
    "cursor = cnx.cursor()\n",
    "query = (\"SELECT id,text FROM review\")\n",
    "cursor.execute(query) \n",
    "results = cursor.fetchall()"
   ]
  },
  {
   "cell_type": "code",
   "execution_count": 130,
   "metadata": {},
   "outputs": [
    {
     "name": "stdout",
     "output_type": "stream",
     "text": [
      "Done writing to csv file\n"
     ]
    }
   ],
   "source": [
    "with open('review_token.csv','w') as f1:\n",
    "    writer=csv.writer(f1, delimiter='\\t',lineterminator='\\n',)\n",
    "    for row in results:\n",
    "        row_text = row[1]\n",
    "        row_tokens = word_tokenize(row_text)\n",
    "        #Remove punctuation： ？ and ! will not be removed for now. \n",
    "        row_tokens = [l.lower() for l in row_tokens if l not in string.punctuation or l==\"?\" or l==\"!\"]\n",
    "        #Lemmatization\n",
    "        lmtzr = WordNetLemmatizer()\n",
    "        row_tokens = [lmtzr.lemmatize(c,\"v\") for c in row_tokens]\n",
    "        #Remove stopwords\n",
    "        stop = set(stopwords.words('english'))\n",
    "        row_tokens = [c.lower() for c in row_tokens if c not in stop]\n",
    "        #All tokens will be space-separated\n",
    "        text_store = \" \".join(row_tokens).encode('utf-8').strip()\n",
    "        #Write to csv\n",
    "        store = [row[0],text_store]\n",
    "        writer.writerow(store)\n",
    "\n",
    "        #print text_store\n",
    "print(\"Done writing to csv file\")\n"
   ]
  },
  {
   "cell_type": "code",
   "execution_count": null,
   "metadata": {
    "collapsed": true
   },
   "outputs": [],
   "source": []
  },
  {
   "cell_type": "code",
   "execution_count": null,
   "metadata": {
    "collapsed": true
   },
   "outputs": [],
   "source": []
  },
  {
   "cell_type": "code",
   "execution_count": null,
   "metadata": {
    "collapsed": true
   },
   "outputs": [],
   "source": []
  },
  {
   "cell_type": "code",
   "execution_count": null,
   "metadata": {
    "collapsed": true
   },
   "outputs": [],
   "source": []
  },
  {
   "cell_type": "code",
   "execution_count": null,
   "metadata": {
    "collapsed": true
   },
   "outputs": [],
   "source": []
  },
  {
   "cell_type": "code",
   "execution_count": null,
   "metadata": {
    "collapsed": true
   },
   "outputs": [],
   "source": []
  },
  {
   "cell_type": "code",
   "execution_count": null,
   "metadata": {
    "collapsed": true
   },
   "outputs": [],
   "source": []
  },
  {
   "cell_type": "code",
   "execution_count": null,
   "metadata": {
    "collapsed": true
   },
   "outputs": [],
   "source": []
  },
  {
   "cell_type": "code",
   "execution_count": null,
   "metadata": {
    "collapsed": true
   },
   "outputs": [],
   "source": []
  }
 ],
 "metadata": {
  "kernelspec": {
   "display_name": "Python 2",
   "language": "python",
   "name": "python2"
  },
  "language_info": {
   "codemirror_mode": {
    "name": "ipython",
    "version": 2
   },
   "file_extension": ".py",
   "mimetype": "text/x-python",
   "name": "python",
   "nbconvert_exporter": "python",
   "pygments_lexer": "ipython2",
   "version": "2.7.13"
  }
 },
 "nbformat": 4,
 "nbformat_minor": 2
}
